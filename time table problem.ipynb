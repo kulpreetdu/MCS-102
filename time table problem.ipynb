{
 "cells": [
  {
   "cell_type": "code",
   "execution_count": 20,
   "metadata": {},
   "outputs": [
    {
     "name": "stdout",
     "output_type": "stream",
     "text": [
      "enter the subject:algo\n",
      "enter the time:11\n",
      "enter the days:fri\n",
      "yes\n",
      "yes\n",
      "neelima maam will take the lec for first year.\n"
     ]
    }
   ],
   "source": [
    "'''\n",
    "time table problem:\n",
    "subjects for first year are algo,ai,is,comp int,elec comm,cryp.\n",
    "subjects for second year are adv os,dm,comp desi,adv comp net,num comp.\n",
    "there are five teachers in the department.\n",
    "each techer teaches only two subject.\n",
    "'''\n",
    "def main():\n",
    "    subject1=[\"algo\",\"ai\",\"is\",\"comp int\",\"elec comm\",\"cyrp\"]\n",
    "    subject2=[\"adv os\",\"dm\",\"comp desi\",\"db\",\"adv comp net\",\"num comp\"]\n",
    "    days=[\"mon\",\"tues\",\"wed\",\"thur\",\"fri\"]\n",
    "    #sat and sun are holidays.\n",
    "    time=[9,10,11,12,2,3]\n",
    "    #lunch break is from 1:00 pm to 2:00 pm.\n",
    "    sub=input(\"enter the subject:\")\n",
    "    t=input(\"enter the time:\")\n",
    "    d=input(\"enter the days:\")\n",
    "    #y=time[0]\n",
    "    #print(y)\n",
    "    if sub in subject1:\n",
    "        #print(\"yes\")\n",
    "        if(t == '11'):\n",
    "            #print(\"yes\")\n",
    "            if d == 'mon' or d == 'thur' or d == 'fri':\n",
    "                print(\"neelima maam will take the lec for first year.\")\n",
    "    elif sub in subject2:\n",
    "        if(t == '11'):\n",
    "             if d == 'tues' or d == 'wed':\n",
    "                print(\"neelima maam will take the lec for second year.\")\n",
    "    else:\n",
    "        print(\"maam is busy\")\n",
    "    #y=time[0]\n",
    "    #print(y)\n",
    "main()"
   ]
  },
  {
   "cell_type": "code",
   "execution_count": 22,
   "metadata": {},
   "outputs": [
    {
     "name": "stdout",
     "output_type": "stream",
     "text": [
      "enter the subject:ai\n",
      "enter the time:10\n",
      "enter the days:tues\n",
      "punam maam will take the lec for first year.\n"
     ]
    }
   ],
   "source": [
    "#'''\n",
    "#time table problem:\n",
    "#subjects for first year are algo,ai,is,comp int,elec comm,cryp.\n",
    "#subjects for second year are adv os,dm,comp desi,adv comp net,num comp.\n",
    "#there are five teachers in the department.\n",
    "#each techer teaches only two subject.\n",
    "#'''\n",
    "def main():\n",
    "    subject1=[\"algo\",\"ai\",\"is\",\"comp int\",\"elec comm\",\"cyrp\"]\n",
    "    subject2=[\"adv os\",\"dm\",\"comp desi\",\"db\",\"adv comp net\",\"num comp\"]\n",
    "    days=[\"mon\",\"tues\",\"wed\",\"thur\",\"fri\"]\n",
    "    #sat and sun are holidays.\n",
    "    time=[9,10,11,12,2,3]\n",
    "    #lunch break is from 1:00 pm to 2:00 pm.\n",
    "    sub=input(\"enter the subject:\")\n",
    "    t=input(\"enter the time:\")\n",
    "    d=input(\"enter the days:\")\n",
    "        #print(y)\n",
    "    if sub in subject1:\n",
    "        #print(\"yes\")\n",
    "        if(t == '10'):\n",
    "            #print(\"yes\")\n",
    "            if d == 'mon' or d == 'tues':\n",
    "                print(\"punam maam will take the lec for first year.\")\n",
    "    elif sub in subject2:\n",
    "        if(t == '10'):\n",
    "             if d == 'thur' or d == 'wed':\n",
    "                print(\"punam maam will take the lec for second year.\")\n",
    "    else:\n",
    "        print(\"maam is busy\")\n",
    "    #y=time[0]\n",
    "    #print(y)\n",
    "main()"
   ]
  },
  {
   "cell_type": "code",
   "execution_count": null,
   "metadata": {},
   "outputs": [],
   "source": []
  }
 ],
 "metadata": {
  "kernelspec": {
   "display_name": "Python 3",
   "language": "python",
   "name": "python3"
  },
  "language_info": {
   "codemirror_mode": {
    "name": "ipython",
    "version": 3
   },
   "file_extension": ".py",
   "mimetype": "text/x-python",
   "name": "python",
   "nbconvert_exporter": "python",
   "pygments_lexer": "ipython3",
   "version": "3.7.0"
  }
 },
 "nbformat": 4,
 "nbformat_minor": 2
}
